{
 "cells": [
  {
   "cell_type": "markdown",
   "metadata": {},
   "source": [
    "# Scanning an Index with Pytesseract"
   ]
  },
  {
   "cell_type": "markdown",
   "metadata": {},
   "source": [
    "## Part 1"
   ]
  },
  {
   "cell_type": "code",
   "execution_count": 58,
   "metadata": {},
   "outputs": [],
   "source": [
    "import pytesseract\n",
    "from PIL import Image"
   ]
  },
  {
   "cell_type": "code",
   "execution_count": 59,
   "metadata": {},
   "outputs": [],
   "source": [
    "image_file = \"images/index_02.JPG\"\n",
    "img = Image.open(image_file)"
   ]
  },
  {
   "cell_type": "code",
   "execution_count": 60,
   "metadata": {},
   "outputs": [],
   "source": [
    "ocr_result = pytesseract.image_to_string(img)"
   ]
  },
  {
   "cell_type": "code",
   "execution_count": 61,
   "metadata": {},
   "outputs": [
    {
     "name": "stdout",
     "output_type": "stream",
     "text": [
      "INDEX NOMINUM.\n",
      "\n",
      "SCRIPSIT KAROLUS HAMPE.\n",
      "\n",
      "Maior numerus indicat paginam, minor lineam.\n",
      "\n",
      "A. v. E.\n",
      "\n",
      "Aaron 38, 20. 123, 18. 168, 6. 203, 38. |\n",
      "\n",
      "Abacuc propheta 36,5. 319,29. 373, 23.\n",
      "Abagarus rex Edessenorum 382, 13.\n",
      "Abdenago 585, 3.\n",
      "\n",
      "Abel 26, 11.\n",
      "\n",
      "Abigail 606, 6.\n",
      "\n",
      "Abraham 26,18. 124,18. 133, 23. 2:\n",
      "264. 302, 13. 303, 13. 320, 40. 328, 1.\n",
      "496, 22.\n",
      "\n",
      "Absalon 102, 5.\n",
      "\n",
      "Acgfredi v. Ecgfridus.\n",
      "\n",
      "Achab rex 504, 1.\n",
      "\n",
      "Achaz rex 504,1.\n",
      "\n",
      "Achiel 606, 19.\n",
      "\n",
      "Achilon 496, 26.\n",
      "\n",
      "Adal-, Adel-, Adhel-, Aedel-, Aedel-,\n",
      "‘Aedil-, Aed\n",
      "Athel-, Athil-, Aethel-, Aethil-,\n",
      "Ethel-.\n",
      "\n",
      "Aedelbaldusabb.S. Petri Wiremuthen-\n",
      "sis et S. Pauli Girwensis 110, 28.\n",
      "\n",
      "Aedilberctus, Aedilberthus ep. Ha-\n",
      "gulstadensis, antea ep. Candidae\n",
      "casae sive Witernensis 27,43. 72,16.\n",
      "\n",
      "Adalbertus, Aedilberctus sive Magus,\n",
      "discipulus et capellanus Arnonis\n",
      "archiep. Salisburg., postea_abb.\n",
      "Ferrariensis 254, 1. 320, 41. 322, 19.\n",
      "416. 418, 14. 422, 10.\n",
      "\n",
      "Adalpertabb. [Tegernseensis ?]497,23.\n",
      "\n",
      "Adalbertus presb. monasterii 8. Mar-\n",
      "tini Turonensis 399, 3.\n",
      "\n",
      "Aedilburga, Edilburga,cognom. Euge-\n",
      "nia, abbatissa Flaedanbyrgensis,\n",
      "filia Offae regis Merciorum 78, 1.\n",
      "148, 32. 149, 33 [?]7 458.\n",
      "\n",
      "Aethelfleda uxor Aethilredi regis\n",
      "Northanhumbrorum, filia Offae\n",
      "regis Merciorum 149, 14. 150, 4.\n",
      "\n",
      "Adalgarius ep. [Trecensis?] 510, 10.\n",
      "\n",
      "Adelgisa filia Arichis ducis Bene-\n",
      "ventani 506, 27.\n",
      "\n",
      "Adalgisus fil. Desiderii regis Lango-\n",
      "bardorum 503, 45.\n",
      "\n",
      "Epistotae IV.\n",
      "\n",
      " \n",
      "\n",
      " \n",
      "\n",
      "il-, Edel-, Edil-, Athal-, |\n",
      "\n",
      "Aethelhardus, Aethilhardus, Athel-\n",
      "hardus, Athilhardus, Aedelhardus,\n",
      "Aedelhardus, Aedilhardus, Aedil-\n",
      "hardus, Ethelardus, Edelardus\n",
      "archiep. Cantuariensis Dorovernen-\n",
      "sis ecclesiae metropolitanus 46, 9.\n",
      "49,9. 128,2. 145, 31, 147,5. 188. 189.\n",
      "192, 24. 193, 5[?]. 374376, v9. 377, 4.\n",
      "412. 414,1 (2. 448. 449 [2]. 450 [2].\n",
      "\n",
      "| 451,8([?]. 479. 480. 614, 10. 21. 36.\n",
      "\n",
      "| Adalhardus , cognom. Antonius, abb.\n",
      "Corbeiae veteris, fil. Bernhardi\n",
      "eo Caroli Magni 34, 25. 290.\n",
      "\n",
      "1. 299. 300. 364. 365, 381. 382.\n",
      "509. 566,16; frater: Bernarius;\n",
      "fratres 381,25; soror: Gundrada.\n",
      "\n",
      "Adalmondus, Aethelmodus ep. Scire-\n",
      "\n",
      "| burnensis 29,9.\n",
      "\n",
      "Adelperga uxor Arichis ducis Bene-\n",
      "\n",
      "| ventani, filia Desiderii regis Lango-\n",
      "\n",
      "bardorum 506, 5; liberi: Romual-\n",
      "dus, Grimoaldus, Adelgisa.\n",
      "\n",
      "| Adalpert v, Adalbertus.\n",
      "\n",
      "Aedelredus, Aedilredus, Aethelredus,\n",
      "Aethilredus, Hedilredus rex Nor-\n",
      "thanhumbrorum, fil. Aedelwaldi\n",
      "Moll regis 33,15. 35,8. 41, 19.\n",
      "49, 16. 71, 20. 146,2. 147,10. 150, 6.\n",
      "151, 35. 171,17. 377,31; mater:\n",
      "Aedilthyda; uxor: Aethelfleda;\n",
      "famulus: Torchmundus.\n",
      "\n",
      "Adhelricus diaconus, discipulus et\n",
      "capellanus Arnonis archiep. Salis-\n",
      "burg., postea abbas Ferrariensis,\n",
      "archiepiscopus Senonensis, 418, 14.\n",
      "422, 10.\n",
      "\n",
      "Aedilthyda, Edilthruda uxor Aethel-\n",
      "waldi Moll regis Northanhumbro-\n",
      "rum, postea abbatissa 120,12. 151,17.\n",
      "152,31 hs filius: Aethelredus rex\n",
      "Northanhumbrorum.\n",
      "\n",
      "Edildryda uxor Ecgfridi regis Nor-\n",
      "thanhumbrorum, postea abbatissa\n",
      "(t 679) 417,15.\n",
      "\n",
      "Aedelwaldus, Aethelwoldus Moll rex\n",
      "Northanhumbrorum 33, 16; uxor:\n",
      "Aedilthyda; filius: Aethelredus,\n",
      "\n",
      "Adalwinus ep. Reginensis 421, 24.\n",
      "422, 21. 424,3.\n",
      "\n",
      " \n",
      "\n",
      " \n",
      "\n",
      "Aethiluuinus episcopus 28, 2.\n",
      "\n",
      "Adam 124, 201,1. 226, 7. 264, at.\n",
      "379, 29. 466, 36—468, v5. 591, 34.\n",
      "Adam abb. monasterii Gemeticensis\n",
      "\n",
      "579.\n",
      "\n",
      "Adaula abbatissa Anglica 112, 4.\n",
      "\n",
      "Adoredus, Hathoredus ep. Hwiccio-\n",
      "rum [Wigorniensis] 29, 10.\n",
      "\n",
      "Adrianus v. Hadrianus.\n",
      "\n",
      "Adriaticum mare 324, 41.\n",
      "\n",
      "| Aedel-, Aedil-, v. Adal-.\n",
      "\n",
      "Aegesippus [#. e. Hegesippus] 501, 11.\n",
      "\n",
      "Aegil v. Eigil.\n",
      "\n",
      "Aegyptus, Egyptus 123,19. 554, 17;\n",
      "Aegyptii, Aegyptiaci 231. 232, 17.\n",
      "467, 36. 567,6. 571,33; Egyptiacae\n",
      "divitiae 470, 22; Aegyptiacae tene-\n",
      "brae 232, 3; Acgy pit rex: Pharao;\n",
      "Aegyptiacascola, Aegyptiaci pueri\n",
      "v. Carolus I imperator.\n",
      "\n",
      "Aeine, Aesne, Esne ep. Herefordensis\n",
      "29, 6.\n",
      "\n",
      "Aelberhtus archiep. Eboracensis, ma-\n",
      "\n",
      "‘ister Alevini abbatis (162, 24]. 167,s.\n",
      "171,19]. [177,5]. [224,20]. [239, 28].\n",
      "332, 28]. [377,32]. (378, 31]. [429,27\n",
      "\n",
      "Aelfvaldus, Aelfwaldus rex Nor-\n",
      "thanhymbrorum, [Transhymbranae\n",
      "gentis] 20, 27. 28, 11. 43,8. 377, 31.\n",
      "\n",
      "Aelim v. Alim.\n",
      "\n",
      "Aeneades 39, 21; v. Virgilius.\n",
      "\n",
      "Aesculapius, Scolapius 397, 25.\n",
      "\n",
      "Aesne v. Aeine,\n",
      "\n",
      "Aethel-, Aethil- v. Adal-.\n",
      "\n",
      "Aethiopia 478, 5.\n",
      "\n",
      "Africa 124, 16; Afer: Melchiades\n",
      "papa; Africanum concilium 526,33.\n",
      "\n",
      "Africanus, sc. Scipio Afr. 575, 36.\n",
      "\n",
      "Agar 584, 3s.\n",
      "\n",
      "Agareni, Aggareni 32, 19. 601, 21;\n",
      "v, Saraceni.\n",
      "\n",
      "Agathensis synodus 396,\n",
      "\n",
      "Aginus ep. Constantiensis 117, 32.\n",
      "\n",
      "129, 19.\n",
      "\n",
      "8\n",
      "\f\n"
     ]
    }
   ],
   "source": [
    "print(ocr_result)"
   ]
  },
  {
   "cell_type": "markdown",
   "metadata": {},
   "source": [
    "## Part 2"
   ]
  },
  {
   "cell_type": "code",
   "execution_count": 62,
   "metadata": {},
   "outputs": [],
   "source": [
    "import pytesseract\n",
    "import cv2"
   ]
  },
  {
   "cell_type": "code",
   "execution_count": 63,
   "metadata": {},
   "outputs": [],
   "source": [
    "image = cv2.imread(\"images/index_02.JPG\")\n",
    "base_iamge = image.copy()"
   ]
  },
  {
   "cell_type": "code",
   "execution_count": 64,
   "metadata": {},
   "outputs": [],
   "source": [
    "gray = cv2.cvtColor(image,cv2.COLOR_BGR2GRAY)"
   ]
  },
  {
   "cell_type": "code",
   "execution_count": 65,
   "metadata": {},
   "outputs": [
    {
     "data": {
      "text/plain": [
       "True"
      ]
     },
     "execution_count": 65,
     "metadata": {},
     "output_type": "execute_result"
    }
   ],
   "source": [
    "cv2.imwrite(\"images/results 2/index_gray.png\", gray)"
   ]
  },
  {
   "cell_type": "code",
   "execution_count": 66,
   "metadata": {},
   "outputs": [],
   "source": [
    "blur = cv2.GaussianBlur(gray, (7,7), 0)"
   ]
  },
  {
   "cell_type": "code",
   "execution_count": 67,
   "metadata": {},
   "outputs": [
    {
     "data": {
      "text/plain": [
       "True"
      ]
     },
     "execution_count": 67,
     "metadata": {},
     "output_type": "execute_result"
    }
   ],
   "source": [
    "cv2.imwrite(\"images/results 2/index_blur.png\", blur)"
   ]
  },
  {
   "cell_type": "code",
   "execution_count": 68,
   "metadata": {},
   "outputs": [],
   "source": [
    "# Create a threshold image\n",
    "thresh = cv2.threshold(blur, 0, 255, cv2.THRESH_BINARY_INV + cv2.THRESH_OTSU)[1]"
   ]
  },
  {
   "cell_type": "code",
   "execution_count": 69,
   "metadata": {},
   "outputs": [
    {
     "data": {
      "text/plain": [
       "True"
      ]
     },
     "execution_count": 69,
     "metadata": {},
     "output_type": "execute_result"
    }
   ],
   "source": [
    "cv2.imwrite(\"images/results 2/index_thresh.png\", thresh)"
   ]
  },
  {
   "cell_type": "code",
   "execution_count": 70,
   "metadata": {},
   "outputs": [],
   "source": [
    "# Individual creation of kernels and dialiation\n",
    "kernel = cv2.getStructuringElement(cv2.MORPH_RECT, (3,13))"
   ]
  },
  {
   "cell_type": "code",
   "execution_count": 71,
   "metadata": {},
   "outputs": [
    {
     "data": {
      "text/plain": [
       "True"
      ]
     },
     "execution_count": 71,
     "metadata": {},
     "output_type": "execute_result"
    }
   ],
   "source": [
    "cv2.imwrite(\"images/results 2/index_kernel.png\", kernel)"
   ]
  },
  {
   "cell_type": "code",
   "execution_count": 72,
   "metadata": {},
   "outputs": [],
   "source": [
    "dilate = cv2.dilate(thresh, kernel, iterations = 1)"
   ]
  },
  {
   "cell_type": "code",
   "execution_count": 73,
   "metadata": {},
   "outputs": [
    {
     "data": {
      "text/plain": [
       "True"
      ]
     },
     "execution_count": 73,
     "metadata": {},
     "output_type": "execute_result"
    }
   ],
   "source": [
    "cv2.imwrite(\"images/results 2/index_dilate.png\", dilate)"
   ]
  },
  {
   "cell_type": "code",
   "execution_count": 74,
   "metadata": {},
   "outputs": [],
   "source": [
    "cnts = cv2.findContours(dilate, cv2.RETR_EXTERNAL, cv2.CHAIN_APPROX_SIMPLE)"
   ]
  },
  {
   "cell_type": "code",
   "execution_count": 75,
   "metadata": {},
   "outputs": [],
   "source": [
    "cnts = cnts[0] if len(cnts) == 2 else cnts[1]"
   ]
  },
  {
   "cell_type": "code",
   "execution_count": 76,
   "metadata": {},
   "outputs": [],
   "source": [
    "cnts = sorted(cnts, key = lambda x: cv2.boundingRect(x)[0])"
   ]
  },
  {
   "cell_type": "code",
   "execution_count": 77,
   "metadata": {},
   "outputs": [
    {
     "data": {
      "text/plain": [
       "True"
      ]
     },
     "execution_count": 77,
     "metadata": {},
     "output_type": "execute_result"
    }
   ],
   "source": [
    "for c in cnts:\n",
    "    x,y,w,h = cv2.boundingRect(c)\n",
    "    if h > 200 and w >20:\n",
    "        roi = image[y:y+h, x:x+w]\n",
    "        cv2.imwrite(\"images/results 2/index_roi.png\", roi)\n",
    "        cv2.rectangle(image, (x, y), (x+w, y+h), (36, 255, 12), 2)\n",
    "cv2.imwrite(\"images/results 2/index_bbox.png\", image)"
   ]
  },
  {
   "cell_type": "code",
   "execution_count": 79,
   "metadata": {},
   "outputs": [],
   "source": [
    "results = []\n",
    "for c in cnts:\n",
    "    x,y,w,h = cv2.boundingRect(c)\n",
    "    if h > 200 and w >20:\n",
    "        roi = image[y:y+h, x:x+w]\n",
    "        cv2.rectangle(image, (x, y), (x+w, y+h), (36, 255, 12), 2)\n",
    "        ocr_result = pytesseract.image_to_string(roi)\n",
    "        ocr_result = ocr_result.split(\"\\n\")\n",
    "        for item in ocr_result:\n",
    "            results.append(item)\n",
    "#cv2.imwrite(\"images/results 2/index_bbox.png\", image)"
   ]
  },
  {
   "cell_type": "code",
   "execution_count": 80,
   "metadata": {},
   "outputs": [
    {
     "name": "stdout",
     "output_type": "stream",
     "text": [
      "[' ', '', 'A. v. E.', '', 'Aaron 38, 20. 123, 18. 168, 6. 203, 38.', 'Abacuc propheta 36,5. 319,29. 373, 23.', 'Abagarus rex Edessenorum 382, 13.', 'Abdenago 585, 3.', 'Abel 26, 11.', 'Abigail 606, 6.', 'Abraham 26,18. 124,18. 133, 23.', '264. 302, 13. 303, 13. 320, 40.', '496, 22.', 'Absalon 102, 5.', 'Acgfredi v. Ecgtridus.', 'Achab rex 504, 1.', 'Achaz rex 504,1.', 'Achiel 606, 19.', 'Achilon 496, 26.', 'Adal-, Adel-, Adhel-, Aedel-, Aed', '', 'Aedil-, Aedil- Edel-, Edil-, Athal-,', 'Athel-, Athil-, Aethel-, Aethil-,', 'Ethel-.', 'Aedelbaldusabb.S. Petri Wiremuthen-', 'sis et S. Pauli Girwensis 110, 28.', 'Aedilberctus, Aedilberthus ep. Ha-', 'gulstadensis, antea ep. Candidae', 'casae sive Witernensis 27,43. 72,16.', 'Adalbertus, Aedilberctus sive Magus,', 'discipulus et capellanus Arnonis', 'archiep. Salisburg., postea_abb.', 'Ferrariensis 254, 1. 320, 41. 322, 19.', '416. 418,14. 422, 10.', 'Adalpertabb.[Tegernseensis ?]497,23.', 'Adalbertus presb. monasterii S. Mar-', 'tini Turonensis 399, 3.', 'Aedilburga, Edilburga, cognom. Euge-', 'nia, abbatissa Flaedanbyrgensis,', 'filia Offae regis Merciorum 78, 1.', '148, 32. 149, 33 [2]° 458.', 'Aethelfleda uxor Aethilredi regis', 'Northanhumbrorum, filia Oftae', 'regis Merciorum 149, 14. 150, 4.', 'Adalgarius ep. [Trecensis?] 510, 10.', 'Adelgisa filia Arichis ducis Bene-', 'ventani 506, 27.', 'Adalgisus fil. Desiderii regis Lango-', 'bardorum 503, 45.', '', 'Epistozae IV.', '', '  ', '', ' ', '', ' ', '', ' ', '', ' ', '', ' ', '\\x0c', ' ', '', 'Aethelhardus, Aethilhardus, Athel-', 'hardus, Athilhardus, Aedelhardus,', 'Aedelhardus, Aedilhardus, Aedil-', 'hardus, Ethelardus, Edelardus', 'archiep. Cantuariensis Dorovernen-', '', 'sis eselaaing metropolitanus 45, 9.', '', '49,9. 128,2. 145, 31, 147,5. 188. 189.', '', '192, 24. 193, 5[?]. 874376, 29. 377, 4.', '', '412. 414,1 (2) 448. 449 [2]. 450 [2],', '', '451, 8 [2]. 479. 480. 614, 10. 21. 36.', '', 'Adalhardus, cognom. Antonius, abb.', '', 'Corbeiae veteris, fil. Bernhardi', '', 'ae Caroli Magni 34, 25. 290.', '1. 299. 300. 364. 365. 381. 382.', '', '509. 566,16; frater: Bernarius;', '', 'fratres 381,25; soror: Gundrada.', '', 'Adalmondus, Aethelmodus ep. Scire-', '', 'burnensis 29, 9.', '', 'Adelperga uxor Arichis ducis Bene-', '', 'ventani, filia Desiderii regis Lango-', '', 'bardorum 506, 5; liberi: Romual-', 'dus, Grimoaldus, Adelgisa.', '', 'Adalpert v, Adalbertus.', '', 'Aedelredus, Aedilredus, Aethelredus,', '', 'Aethilredus, Hedilredus rex Nor-', '', 'thanhumbrorum, fil. Aedelwaldi', '', 'Moll regis 383,15. 35,8. 41, 19.', '', '49,16. 71, 20, 146,2. 147,10. 150, 6.', '', '151, 35. 171,17. 377,31; mater:', '', 'Aedilthyda; uxor: Aethelfleda;', '', 'famulus: Torchmundus.', '', 'Adhelricus diaconus, discipulus et;', '', 'capellanus Arnonis archiep. Salis-', '', 'burg., postea abbas Ferrariensis,', '', 'archiepiscopus Senonensis, 418, 14.', '', '422, 10.', '', 'Aedilthyda, Edilthruda uxor Aethel-', '', 'waldi Moll regis Northanhumbro-', '', 'rum, postea abbatissa 120,12. 151,17.', '', '152, 31 (?]; filius: Aethelredus rex', '', 'Northanhumbrorum.', '', 'Edildryda uxor Ecgfridi regis Nor-', 'thanhumbrorum, postea abbatissa', '(+ 679) 417,15.', '', 'Aedelwaldus, Aethelwoldus Moll rex', 'Northanhumbrorum 33, 16; uxor:', 'Aedilthyda; filius: Aethelredus,', '', 'Adalwinus ep. Reginensis 421, 24.', '422, 21. 424, 3.', '', ' ', '', ' ', '', ' ', '', ' ', '', ' ', '', ' ', '', ' ', '\\x0c', ' ', '', 'Aethiluuinus episcopus 28, 2.', '', 'Adam 124. 201,1. 226,7. 264, 21,', '', '379, 29. 466, 36-—468, v5. 591, 34.', '', 'Adam abb. monasterii Gemeticensis', '', '579.', '', 'Adaula abbatissa Anglica 112, 4.', '', 'Adoredus, Hathoredus ep. Hwiccio-', 'rum [Wigorniensis] 29, 10.', '', 'Adrianus v. Hadrianus.', '', 'Adriaticum mare 324, 41.', '', 'Aedel-, Aedil-, v. Adal-.', '', 'Aegesippus [i. e. Hegesippus] 501, 11', '', 'Aegil v. Eigil.', '', 'Aegyptus, Egyptus 123,19. 554, 17;', 'Aegyptii, Aegyptiaci 231. 232, 17.', '467, 36. 567,6. 571,33; Egyptiacae', 'divitiae 470, 22; Aegyptiacae tene-', 'brae 232, 3; Acgy pit rex: Pharao;', 'Aegyptiacascola, Aegyptiaci pueri', 'v. Carolus I imperator.', '', 'Aeine, Aesne, Esne ep. Herefordensis', '', ', 6.', 'Aelberhtus archiep. Eboracensis, ma-', '‘ister Alevini abbatis (162, 24]. 167,s.', '171,19]. [177, 5]. [224,20]. [239, 28].', '332, 28]. [377,32]. (378, 31]. [429,27', '', 'Aelfvaldus, Aelfwaldus rex Nor-', 'thanhymbrorum, [Transhymbranae', 'gentis] 20, 27. 28, 11. 43,8. 377, 31.', '', 'Aelim v. Alim.', '', 'Aeneades 39, 21; v. Virgilius.', '', 'Aesculapius, Scolapius 397, 25.', '', 'Aesne v. Aeine.', '', 'Aethel-, Aethil- v. Adal-.', '', 'Aethiopia 478, 5,', '', 'Africa 124, 16; Afer: Melchiades', 'papa; Africanum concilium 526,33.', '', 'Africanus, se. Scipio Afr. 575, 36.', '', 'Agar 584, 3s.', '', 'Agareni, Aggareni 32, 19. 601, 21;', 'v, Saraceni.', '', 'Agathensis synodus 396,', '', 'Aginus ep. Constantiensis 117, 32.', '', '129, 19.', '', ' ', '', ' ', '', ' ', '\\x0c']\n"
     ]
    }
   ],
   "source": [
    "print(results)"
   ]
  },
  {
   "cell_type": "code",
   "execution_count": 91,
   "metadata": {},
   "outputs": [],
   "source": [
    "entities = []\n",
    "for item in results:\n",
    "    item = item.strip().replace(\"\\n\",\"\")\n",
    "    item = item.split(\" \")[0]\n",
    "    if len(item) > 2:\n",
    "        if item[0].isupper() and item[0] == 'A' and \"-\" not in item:\n",
    "            item = item.split(\".\")[0].replace(\",\",\"\").replace(\";\",\"\")\n",
    "            entities.append(item)"
   ]
  },
  {
   "cell_type": "code",
   "execution_count": 92,
   "metadata": {},
   "outputs": [
    {
     "name": "stdout",
     "output_type": "stream",
     "text": [
      "['Aaron', 'Abacuc', 'Abagarus', 'Abdenago', 'Abel', 'Abigail', 'Abraham', 'Absalon', 'Acgfredi', 'Achab', 'Achaz', 'Achiel', 'Achilon', 'Aedelbaldusabb', 'Aedilberctus', 'Adalbertus', 'Adalpertabb', 'Adalbertus', 'Aedilburga', 'Aethelfleda', 'Adalgarius', 'Adelgisa', 'Adalgisus', 'Aethelhardus', 'Aedelhardus', 'Adalhardus', 'Adalmondus', 'Adelperga', 'Adalpert', 'Aedelredus', 'Aethilredus', 'Aedilthyda', 'Adhelricus', 'Aedilthyda', 'Aedelwaldus', 'Aedilthyda', 'Adalwinus', 'Aethiluuinus', 'Adam', 'Adam', 'Adaula', 'Adoredus', 'Adrianus', 'Adriaticum', 'Aegesippus', 'Aegil', 'Aegyptus', 'Aegyptii', 'Aegyptiacascola', 'Aeine', 'Aelberhtus', 'Aelfvaldus', 'Aelim', 'Aeneades', 'Aesculapius', 'Aesne', 'Aethiopia', 'Africa', 'Africanus', 'Agar', 'Agareni', 'Agathensis', 'Aginus']\n"
     ]
    }
   ],
   "source": [
    "print(entities)"
   ]
  },
  {
   "cell_type": "code",
   "execution_count": 94,
   "metadata": {},
   "outputs": [
    {
     "name": "stdout",
     "output_type": "stream",
     "text": [
      "['Aaron', 'Abacuc', 'Abagarus', 'Abdenago', 'Abel', 'Abigail', 'Abraham', 'Absalon', 'Acgfredi', 'Achab', 'Achaz', 'Achiel', 'Achilon', 'Adalbertus', 'Adalgarius', 'Adalgisus', 'Adalhardus', 'Adalmondus', 'Adalpert', 'Adalpertabb', 'Adalwinus', 'Adam', 'Adaula', 'Adelgisa', 'Adelperga', 'Adhelricus', 'Adoredus', 'Adrianus', 'Adriaticum', 'Aedelbaldusabb', 'Aedelhardus', 'Aedelredus', 'Aedelwaldus', 'Aedilberctus', 'Aedilburga', 'Aedilthyda', 'Aegesippus', 'Aegil', 'Aegyptiacascola', 'Aegyptii', 'Aegyptus', 'Aeine', 'Aelberhtus', 'Aelfvaldus', 'Aelim', 'Aeneades', 'Aesculapius', 'Aesne', 'Aethelfleda', 'Aethelhardus', 'Aethilredus', 'Aethiluuinus', 'Aethiopia', 'Africa', 'Africanus', 'Agar', 'Agareni', 'Agathensis', 'Aginus']\n"
     ]
    }
   ],
   "source": [
    "entities = list(set(entities))\n",
    "entities.sort()\n",
    "print (entities)"
   ]
  }
 ],
 "metadata": {
  "kernelspec": {
   "display_name": "Python 3",
   "language": "python",
   "name": "python3"
  },
  "language_info": {
   "codemirror_mode": {
    "name": "ipython",
    "version": 3
   },
   "file_extension": ".py",
   "mimetype": "text/x-python",
   "name": "python",
   "nbconvert_exporter": "python",
   "pygments_lexer": "ipython3",
   "version": "3.11.5"
  }
 },
 "nbformat": 4,
 "nbformat_minor": 2
}
