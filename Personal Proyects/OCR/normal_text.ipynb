{
 "cells": [
  {
   "cell_type": "markdown",
   "metadata": {},
   "source": [
    "# Scanning normal texts with Pytesseract"
   ]
  },
  {
   "cell_type": "code",
   "execution_count": 1,
   "metadata": {},
   "outputs": [],
   "source": [
    "import pytesseract\n",
    "from PIL import Image"
   ]
  },
  {
   "cell_type": "code",
   "execution_count": 2,
   "metadata": {},
   "outputs": [],
   "source": [
    "img_file = \"images/image1.jpg\"\n",
    "no_noise = \"results/no_noise.jpg\""
   ]
  },
  {
   "cell_type": "code",
   "execution_count": 3,
   "metadata": {},
   "outputs": [],
   "source": [
    "img = Image.open(img_file)"
   ]
  },
  {
   "cell_type": "code",
   "execution_count": 5,
   "metadata": {},
   "outputs": [],
   "source": [
    "ocr_result = pytesseract.image_to_string(img)"
   ]
  },
  {
   "cell_type": "code",
   "execution_count": 6,
   "metadata": {},
   "outputs": [
    {
     "name": "stdout",
     "output_type": "stream",
     "text": [
      "Our Opportunity\n",
      "\n",
      "Join us as a Junior Sales Engineer and be instrumental in introducing Robotic Process Automation\n",
      "(RPA) to leading Enterprises. You'll play a vital role in showcasing the transformative power of RPA\n",
      "to enhance productivity and collaboration within organizations. If you have a passion for technology\n",
      "and automation, this is your chance to make an impact by demonstrating how tools like Automation\n",
      "Anywhere simplify automation and integration of complex systems for our customers.\n",
      "\n",
      "Responsibilities:\n",
      "\n",
      "Assist in driving and managing the technology evaluation stage of the sales process, providing\n",
      "technical support and product knowledge.\n",
      "\n",
      "Engage with clients alongside senior team members to understand their needs and demonstrate\n",
      "the value of our products.\n",
      "\n",
      "Support the development and implementation of new integrations for clients, under the guidance\n",
      "of senior team members.\n",
      "\n",
      "Participate in regional evangelization activities, including client workshops and industry events, to\n",
      "showcase our solutions.\n",
      "\n",
      "Assist in promoting internal and external infrastructure to expand corporate reach into new markets\n",
      "and segments.\n",
      "\n",
      "Collaborate with team members to enhance technical skills and maintain a thorough\n",
      "understanding of RPA products and services.\n",
      "\n",
      "Support the establishment and maintenance of customer relationships throughout the sales cycle.\n",
      "\n",
      "Provide technical support and advocacy to position products effectively against competition.\n",
      "\n",
      "Requirements:\n",
      "Bachelor's degree in Computer Science, Engineering, or a similar field.\n",
      "\n",
      "1-3 years of overall experience, with 1-3 years of relevant experience in sales/pre-sales with RPA\n",
      "Products.\n",
      "\n",
      "Basic understanding of automation/coding with some hands-on experience in developing and\n",
      "deploying projects.\n",
      "\n",
      "Familiarity with 3rd party integrations in RPA solutions, including exposure to Al/ML models, NLP,\n",
      "and OCR.\n",
      "\n",
      "Basic proficiency in scripting, Dot Net, or Java technologies.\n",
      "\n",
      "Familiarity with business applications and ERP systems such as SAP, Oracle, and Peoplesoft.\n",
      "\f\n"
     ]
    }
   ],
   "source": [
    "print(ocr_result)"
   ]
  }
 ],
 "metadata": {
  "kernelspec": {
   "display_name": "Python 3",
   "language": "python",
   "name": "python3"
  },
  "language_info": {
   "codemirror_mode": {
    "name": "ipython",
    "version": 3
   },
   "file_extension": ".py",
   "mimetype": "text/x-python",
   "name": "python",
   "nbconvert_exporter": "python",
   "pygments_lexer": "ipython3",
   "version": "3.11.5"
  }
 },
 "nbformat": 4,
 "nbformat_minor": 2
}
